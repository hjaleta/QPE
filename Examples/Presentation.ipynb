{
 "cells": [
  {
   "cell_type": "markdown",
   "id": "cb66f4f0",
   "metadata": {},
   "source": [
    "#### Not all Latex writing seem to work in the VS Code extension of Jupyter, be aware..."
   ]
  },
  {
   "cell_type": "markdown",
   "id": "5592f91b",
   "metadata": {},
   "source": [
    "## Defining a Unitary\n",
    "\n",
    "$ U_{\\varphi }( \\varphi_{0}, \\varphi_{1} ) = \n",
    "\\begin{pmatrix} \n",
    "    e^{i  2 \\pi \\varphi_{0}} & 0\\\\\n",
    "    0 & e^{i  2 \\pi \\varphi_{1}} \n",
    "\\end{pmatrix}\n",
    "\\;\\;\\;\\;\n",
    "\\left\\{\n",
    "    \\begin{array}\\\\\n",
    "        |\\psi_0 \\rangle = \\begin{pmatrix} 1\\\\ 0 \\end{pmatrix}\\;\\;\\; \\mathrm{Eigenphase}: \\varphi_0\\\\\n",
    "        |\\psi_1 \\rangle = \\begin{pmatrix} 0\\\\ 1 \\end{pmatrix}\\;\\;\\; \\mathrm{Eigenphase}: \\varphi_1 \\\\\n",
    "    \\end{array}\n",
    "\\right.\n",
    "$"
   ]
  },
  {
   "cell_type": "code",
   "execution_count": null,
   "id": "e787713a",
   "metadata": {},
   "outputs": [],
   "source": [
    "from QPE.Unitary import Unitary\n",
    "from QPE.HelpFunctions import phase_to_exp\n",
    "import numpy as np\n",
    "\n",
    "def U_phi(phi_0, phi_1):\n",
    "    diag_elems = phase_to_exp([phi_0, phi_1])\n",
    "    matrix = np.diag(diag_elems)\n",
    "    U_phi = Unitary(matrix)\n",
    "    return U_phi"
   ]
  },
  {
   "cell_type": "markdown",
   "id": "56161a95",
   "metadata": {},
   "source": [
    "### Defining our eigenphases & Constructing U\n",
    "$\n",
    "\\mathrm{Let} \\left\\{\n",
    "    \\begin{array}\\\\\n",
    "        \\varphi_0 = 0.5625 = 0.1001_{2}\\\\\n",
    "        \\varphi_1 = 0.578125 = 0.100101_{2}\n",
    "    \\end{array}\n",
    "\\right.\n",
    "$"
   ]
  },
  {
   "cell_type": "code",
   "execution_count": null,
   "id": "84f71cea",
   "metadata": {},
   "outputs": [],
   "source": [
    "from QPE.HelpFunctions import bin_to_float\n",
    "\n",
    "b_0 = \"1001\"\n",
    "b_1 = \"100101\"\n",
    "phi_0 = bin_to_float(b_0)\n",
    "phi_1 = bin_to_float(b_1) \n",
    "\n",
    "print(f\"Bitstring b_0 = {b_0}\\t correspond to phi_0 = {phi_0}\")\n",
    "print(f\"Bitstring b_1 = {b_1}\\t correspond to phi_1 = {phi_1}\")\n",
    "\n",
    "U = U_phi(phi_0, phi_1)"
   ]
  },
  {
   "cell_type": "markdown",
   "id": "f8a1df00",
   "metadata": {},
   "source": [
    "## Constructing the PhaseEstimator\n",
    "\n",
    "**Algorithm:** Quantum Fourier Transform \n",
    "\n",
    "**Unitary:** The Unitary $U_{\\varphi}$ constructed above\n",
    "\n",
    "**Digits of precision:** 4\n",
    "\n",
    "**Backend:** My local machine (*No time to wait for hardware*)⌛️⌛️⌛️"
   ]
  },
  {
   "cell_type": "code",
   "execution_count": null,
   "id": "70f8dcad",
   "metadata": {},
   "outputs": [],
   "source": [
    "from QPE.QFT import QFT\n",
    "\n",
    "n_digits = 4\n",
    "backend_params = {\"service\":\"local\"}\n",
    "N_states = 2\n",
    "\n",
    "PE = QFT(U, n_digits, N_states = N_states, backend_params = backend_params)"
   ]
  },
  {
   "cell_type": "markdown",
   "id": "4af05f21",
   "metadata": {},
   "source": [
    "## Running the algorithm"
   ]
  },
  {
   "cell_type": "code",
   "execution_count": null,
   "id": "8be4b5d1",
   "metadata": {},
   "outputs": [],
   "source": [
    "PE.run_circuit()\n",
    "PE.post_process()"
   ]
  },
  {
   "cell_type": "markdown",
   "id": "e268bed8",
   "metadata": {},
   "source": [
    "## Plotting results\n",
    "*Remember,* $ \\varphi_0$ *is representable by 4 digits, but* $ \\varphi_1$ *is not ...*"
   ]
  },
  {
   "cell_type": "code",
   "execution_count": null,
   "id": "ebc0b0e1",
   "metadata": {},
   "outputs": [],
   "source": [
    "PE.plot_histograms(0)"
   ]
  },
  {
   "cell_type": "code",
   "execution_count": null,
   "id": "2b1113b4",
   "metadata": {},
   "outputs": [],
   "source": [
    "PE.plot_histograms(1)"
   ]
  },
  {
   "cell_type": "markdown",
   "id": "f16fea39",
   "metadata": {},
   "source": [
    "## Exporting experiment data\n",
    "We can export this class object to a json file with the **dump_to_json()**-method"
   ]
  },
  {
   "cell_type": "code",
   "execution_count": null,
   "id": "07d2b4fd",
   "metadata": {},
   "outputs": [],
   "source": [
    "PE.dump_to_json(\"example_experiment_simulation.json\")"
   ]
  },
  {
   "cell_type": "markdown",
   "id": "73e15aae",
   "metadata": {},
   "source": [
    "## Data from an earlier experiment\n",
    "Before the presentation, the same experiment for $\\varphi_1$ was run on the IBMQ hardware\n",
    "\n",
    "Let us view these results"
   ]
  },
  {
   "cell_type": "code",
   "execution_count": null,
   "id": "cd99fe12",
   "metadata": {},
   "outputs": [],
   "source": [
    "from QPE.UnpackData import unpack_PE_from_json\n",
    "hardware_path = \"example_experiment_hardware.json\"\n",
    "hardware_PE = unpack_PE_from_json(hardware_path)"
   ]
  },
  {
   "cell_type": "code",
   "execution_count": null,
   "id": "32a19a7e",
   "metadata": {},
   "outputs": [],
   "source": [
    "hardware_PE.plot_histograms(0)"
   ]
  },
  {
   "cell_type": "markdown",
   "id": "0e25ee0a",
   "metadata": {},
   "source": [
    "#### Want to try yourself?\n",
    "\n",
    "Download the repository from https://github.com/hjaleta/QPE\n",
    "\n",
    "or simply\n",
    "\n",
    "`pip install QPE`\n",
    "\n",
    "*NOTE: qiskit and quantuminspire are required*"
   ]
  }
 ],
 "metadata": {
  "kernelspec": {
   "display_name": "Python 3",
   "language": "python",
   "name": "python3"
  },
  "language_info": {
   "codemirror_mode": {
    "name": "ipython",
    "version": 3
   },
   "file_extension": ".py",
   "mimetype": "text/x-python",
   "name": "python",
   "nbconvert_exporter": "python",
   "pygments_lexer": "ipython3",
   "version": "3.10.12"
  }
 },
 "nbformat": 4,
 "nbformat_minor": 5
}
